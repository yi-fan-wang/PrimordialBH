{
 "cells": [
  {
   "cell_type": "code",
   "execution_count": 1,
   "metadata": {},
   "outputs": [],
   "source": [
    "%matplotlib inline\n",
    "import numpy as np\n",
    "import matplotlib as mpl\n",
    "import matplotlib.pyplot as plt\n",
    "import lal\n",
    "from pycbc import waveform\n",
    "from tqdm import tqdm\n",
    "\n",
    "# PLOTTING OPTIONS\n",
    "fig_width_pt = 3*246.0  # Get this from LaTeX using \\showthe\\columnwidth\n",
    "inches_per_pt = 1.0/72.27               # Convert pt to inch\n",
    "golden_mean = (np.sqrt(5)-1.0)/2.0         # Aesthetic ratio\n",
    "fig_width = fig_width_pt*inches_per_pt  # width in inches\n",
    "fig_height = fig_width*golden_mean      # height in inches\n",
    "fig_size =  [fig_width,fig_height]\n",
    "\n",
    "params = { 'axes.labelsize': 24,\n",
    "          'font.family': 'serif',\n",
    "          'font.serif': 'Computer Modern Raman',\n",
    "          'font.size': 24,\n",
    "          'legend.fontsize': 20,\n",
    "          'xtick.labelsize': 24,\n",
    "          'ytick.labelsize': 24,\n",
    "          'axes.grid' : True,\n",
    "          'text.usetex': True,\n",
    "          'savefig.dpi' : 100,\n",
    "          'lines.markersize' : 14,\n",
    "          'figure.figsize': fig_size}\n",
    "\n",
    "mpl.rcParams.update(params)"
   ]
  },
  {
   "cell_type": "code",
   "execution_count": 2,
   "metadata": {},
   "outputs": [],
   "source": [
    "c = 3e8\n",
    "G = 6.67e-11\n",
    "pc2m = 3.086e16\n",
    "yr2s = 3.154e7\n",
    "solarmass = 2e30\n",
    "from astropy.cosmology import Planck18  # Planck 2018\n",
    "from scipy.integrate import quad\n",
    "from scipy import optimize"
   ]
  },
  {
   "cell_type": "code",
   "execution_count": 3,
   "metadata": {},
   "outputs": [],
   "source": [
    "def dE_df(mass1,mass2,freq=25):\n",
    "    '''\n",
    "    Return the dE/df given a mass and distance of a BBH merger\n",
    "    '''\n",
    "    #distance_mpc = Planck18.luminosity_distance(z).value\n",
    "    distance_mpc = 1 # distance cancels out with the denominator in h(f), so it doesn't quite matter here\n",
    "    delta_f = 1/4\n",
    "    sptilde, _ = waveform.get_fd_waveform(approximant=\"IMRPhenomD\",\n",
    "                                              mass1=mass1, \n",
    "                                              mass2=mass2, \n",
    "                                              delta_f=delta_f,\n",
    "                                              f_lower=20,\n",
    "                                              distance=distance_mpc)\n",
    "    ind = int(freq/ delta_f)\n",
    "    try:\n",
    "        sptildedata = sptilde.data[ind]\n",
    "    except IndexError:\n",
    "        return 0\n",
    "    return 8/5*np.pi**2*c**3/G*freq**2*(distance_mpc*1e6*pc2m)**2* \\\n",
    "                (np.abs(sptildedata))**2"
   ]
  },
  {
   "cell_type": "markdown",
   "metadata": {},
   "source": [
    "# Comparison between a (37,1) solar mass binary merger and a (5,5) binary merger dE/df"
   ]
  },
  {
   "cell_type": "code",
   "execution_count": 4,
   "metadata": {},
   "outputs": [
    {
     "data": {
      "text/plain": [
       "<matplotlib.legend.Legend at 0x146c797d0>"
      ]
     },
     "execution_count": 4,
     "metadata": {},
     "output_type": "execute_result"
    },
    {
     "name": "stderr",
     "output_type": "stream",
     "text": [
      "findfont: Font family ['serif'] not found. Falling back to DejaVu Sans.\n"
     ]
    },
    {
     "data": {
      "image/png": "[encoded data removed]",
      "text/plain": [
       "<Figure size 735.243x454.405 with 1 Axes>"
      ]
     },
     "metadata": {
      "needs_background": "light"
     },
     "output_type": "display_data"
    }
   ],
   "source": [
    "ef1 = []\n",
    "ef2 = []\n",
    "freq = np.linspace(20,1000,100)\n",
    "for f in freq:\n",
    "    ef1.append( dE_df(37,1,f))\n",
    "    ef2.append( dE_df(5,5,f))\n",
    "ef1 = np.array(ef1)\n",
    "ef2 = np.array(ef2)\n",
    "plt.plot(freq,ef1,label='37,1')\n",
    "plt.plot(freq,ef2,label='5,5')\n",
    "plt.xscale('log')\n",
    "plt.yscale('log')\n",
    "plt.legend()"
   ]
  },
  {
   "cell_type": "code",
   "execution_count": 5,
   "metadata": {},
   "outputs": [],
   "source": [
    "t0 = Planck18.age(0).value # age of the Universe\n",
    "def rate_deltamass(m,f,z):\n",
    "    '''\n",
    "    m is mass\n",
    "    f is fraction of PBH in dark matter\n",
    "    z is the redshift\n",
    "    '''\n",
    "    sigma_eq = 0.005\n",
    "    t = Planck18.age(z).value\n",
    "    return 3e6 * (t/t0)**(-34/37) * f**2*(0.7*f**2+sigma_eq**2)**(-21./74)*m**(-32/37)\n",
    "\n",
    "def rate_twomass(m1,m2,p_m1,z):\n",
    "    # fix the primary mass's f_pbh to be 3e-3\n",
    "    f_pbh_m1 = 3e-3\n",
    "    # the fraction of p1 is a free variable\n",
    "    p1 = p_m1\n",
    "    p2 = 1-p1\n",
    "    # the total fraction of PBH including m1 and m2\n",
    "    f = f_pbh_m1/p_m1\n",
    "    sigma_eq = 0.005\n",
    "    t = Planck18.age(z).value\n",
    "    return 3e6 * (t/t0)**(-34/37) * f**2 * (0.7*f**2+sigma_eq**2)**(-21./74) \\\n",
    "            *min(p1/m1,p2/m2)*(p1/m1+p2/m2)*(m1*m2)**(3./37)*(m1+m2)**(36./37)\n",
    "\n",
    "def E_of_z(z):\n",
    "    return np.sqrt(Planck18.Om0*(1+z)**3+(1-Planck18.Om0))"
   ]
  },
  {
   "cell_type": "code",
   "execution_count": 6,
   "metadata": {},
   "outputs": [],
   "source": [
    "class sgwb(object):\n",
    "    def __init__(self,mass1,mass2,search_type='comparable'):\n",
    "        '''\n",
    "        search_type = comparable or highmassratio or test\n",
    "        '''\n",
    "        self.mass1 = mass1\n",
    "        self.mass2 = mass2\n",
    "        self.search_type = search_type\n",
    "        self.unit_const = (1e9*pc2m)**3*yr2s\n",
    "        self.rho_c = 3*lal.H0_SI**2*c**2/8/np.pi/G\n",
    "        if self.search_type == 'comparable':\n",
    "            if self.mass1 != self.mass2:\n",
    "                sys.exit('This is comparable mass model! m1 must equal to m2!')\n",
    "        self.integrand = {'comparable': self.integrand_comparablemass,\n",
    "                 'test': self.integrand_test,\n",
    "                 'astro': self.integrand_astro,\n",
    "                 'highmassratio':self.integrand_highmassratio}\n",
    "    def integrand_highmassratio(self, z, det_freq, fraction):\n",
    "        '''\n",
    "        det_freq: the frequency in detector frame\n",
    "        fraction: f_secondary\n",
    "        '''\n",
    "        freq_source = det_freq * (1+z)\n",
    "        p_m1 = 0.003 / (0.003 + fraction)\n",
    "        return rate_twomass(self.mass1,self.mass2,p_m1, z) \\\n",
    "            /self.unit_const/(1+z)/E_of_z(z)*dE_df(self.mass1,self.mass2,freq_source)\n",
    "  \n",
    "    def integrand_comparablemass(self, z, det_freq, fraction):\n",
    "        '''\n",
    "        det_freq: the frequency in detector frame\n",
    "        '''\n",
    "        freq_source = det_freq * (1+z)\n",
    "        return rate_deltamass(self.mass1,fraction,z)/self.unit_const/(1+z)/E_of_z(z)*dE_df(self.mass1,self.mass2,freq_source)\n",
    "    \n",
    "    def integrand_test(self,z,det_freq,fraction):\n",
    "        #set the mass to be the same: all are 0.1 solar mass\n",
    "        return deltamass_rate(0.1,fraction,0)/self.factor_rate/(1+z)/E_of_z(z)*dE_df(self.mass1,self.mass2,det_freq)\n",
    "    \n",
    "    def integrand_astro(self, z, det_freq, fraction):\n",
    "        '''\n",
    "        det_freq: the frequency in detector frame\n",
    "        '''\n",
    "        freq_source = det_freq * (1+z)\n",
    "        rbbh = 19\n",
    "        return sfr(z)/sfr(0)*rbbh/self.unit_const/(1+z)/E_of_z(z)*dE_df(self.mass1,self.mass2,freq_source)\n",
    " \n",
    "    def omega_gw_freq(self,fraction,freq_val=25):\n",
    "        z_low, z_high = 0, 20\n",
    "        I = quad(self.integrand[self.search_type], z_low, z_high, args=(freq_val,fraction))\n",
    "        return freq_val / self.rho_c / lal.H0_SI * I[0]\n",
    "    \n",
    "    def omega_gw_array(self,fraction,freq_array = np.logspace(1,5,100)):\n",
    "        omega = []\n",
    "        z_low, z_high = 0, 20\n",
    "\n",
    "        for freq_val in tqdm(freq_array):\n",
    "            I = quad(self.integrand[self.search_type], z_low, z_high, args=(freq_val,fraction))\n",
    "            omega.append( freq_val / self.rho_c / lal.H0_SI * I[0])\n",
    "        return np.asarray(omega)"
   ]
  },
  {
   "cell_type": "markdown",
   "metadata": {},
   "source": [
    "# Comparable SGWB constraint"
   ]
  },
  {
   "cell_type": "code",
   "execution_count": 8,
   "metadata": {},
   "outputs": [],
   "source": [
    "# here I only need to compute the 25Hz SGWB value, to compare with the LVK results\n",
    "# Given by https://journals.aps.org/prd/pdf/10.1103/PhysRevD.104.022004\n",
    "#LVK_upper = 3.4e-9\n",
    "LVK_upper = 1.2e-8\n",
    "\n",
    "mass = np.arange(0.1,1.1,0.1)\n",
    "constraint = []"
   ]
  },
  {
   "cell_type": "code",
   "execution_count": 10,
   "metadata": {},
   "outputs": [
    {
     "name": "stderr",
     "output_type": "stream",
     "text": [
      "100%|██████████| 10/10 [00:50<00:00,  5.02s/it]\n"
     ]
    }
   ],
   "source": [
    "for m in tqdm(mass):\n",
    "    sgwb_com = sgwb(m,m,'comparable')\n",
    "    def CacheFunction(f):\n",
    "        return sgwb_com.omega_gw_freq(f) - LVK_upper\n",
    "    sol = optimize.root_scalar(CacheFunction, bracket=[5e-3, 1], method='brentq')\n",
    "    constraint.append(sol.root)   "
   ]
  },
  {
   "cell_type": "code",
   "execution_count": 11,
   "metadata": {},
   "outputs": [],
   "source": [
    "np.savetxt('sgwb_com_mass_uniform.txt',np.transpose([mass,constraint]))"
   ]
  },
  {
   "cell_type": "code",
   "execution_count": 12,
   "metadata": {},
   "outputs": [],
   "source": [
    "m,c = np.loadtxt('sgwb_com_mass.txt',unpack=True)"
   ]
  },
  {
   "cell_type": "code",
   "execution_count": 13,
   "metadata": {},
   "outputs": [
    {
     "data": {
      "text/plain": [
       "[<matplotlib.lines.Line2D at 0x146ff32d0>]"
      ]
     },
     "execution_count": 13,
     "metadata": {},
     "output_type": "execute_result"
    },
    {
     "data": {
      "image/png": "[encoded data removed]",
      "text/plain": [
       "<Figure size 735.243x454.405 with 1 Axes>"
      ]
     },
     "metadata": {
      "needs_background": "light"
     },
     "output_type": "display_data"
    }
   ],
   "source": [
    "plt.loglog(mass,constraint)\n",
    "plt.loglog(m,c)"
   ]
  },
  {
   "cell_type": "code",
   "execution_count": null,
   "metadata": {},
   "outputs": [],
   "source": [
    "#np.savetxt('sgwb_com_mass.txt',np.transpose([mass,constraint]))"
   ]
  },
  {
   "cell_type": "markdown",
   "metadata": {},
   "source": [
    "# High mass ratio"
   ]
  },
  {
   "cell_type": "code",
   "execution_count": null,
   "metadata": {},
   "outputs": [],
   "source": [
    "hmr_upper = 5.8e-9\n",
    "mass = np.append( np.arange(0.02,0.1,0.01), np.arange(0.1,1.1,0.1))\n",
    "constraint = []\n",
    "\n",
    "for m in tqdm(mass):\n",
    "    sgwb_hms = sgwb(37,m,'highmassratio')\n",
    "    def CacheFunction(f):\n",
    "        return sgwb_hms.omega_gw_freq(f) - hmr_upper\n",
    "    sol = optimize.root_scalar(CacheFunction, bracket=[1e-3, 1], method='brentq')\n",
    "    constraint.append(sol.root)   "
   ]
  },
  {
   "cell_type": "code",
   "execution_count": null,
   "metadata": {},
   "outputs": [],
   "source": [
    "plt.loglog(mass,constraint)\n",
    "plt.xlim(0.02,1)"
   ]
  },
  {
   "cell_type": "code",
   "execution_count": null,
   "metadata": {
    "scrolled": true
   },
   "outputs": [],
   "source": [
    "freq = np.linspace(10,500,100)\n",
    "for i in range(len(mass)):\n",
    "    sgwb_hms = sgwb(37,mass[i],'highmassratio')\n",
    "    omega_gw_hms = sgwb_hms.omega_gw_array(constraint[i],freq)\n",
    "    np.savetxt('./hmr/mass_%.2f.txt' % (mass[i]),np.transpose([freq,omega_gw_hms]))"
   ]
  },
  {
   "cell_type": "code",
   "execution_count": null,
   "metadata": {},
   "outputs": [],
   "source": [
    "for i in range(len(mass)):\n",
    "    f = np.loadtxt('./hmr/mass_%.2f.txt' % mass[i])\n",
    "    plt.plot(f[:,0],f[:,1],label=r'mass=%.2f, $f_\\mathrm{pbh}$=%.3f' % (mass[i],constraint[i]))\n",
    "\n",
    "plt.ylim(1e-10,)\n",
    "plt.xlim(20,)\n",
    "plt.xscale('log')\n",
    "plt.yscale('log')\n",
    "plt.scatter(25,hmr_upper,marker='*',color='black',label='LVK 25Hz upper limit')\n",
    "plt.title('SGWB shape')\n",
    "x= [25,1000]\n",
    "y = [hmr_upper,(x[1]/x[0])**(0)*hmr_upper]\n",
    "plt.loglog(x,y,label='power law (index 0)')\n",
    "plt.legend(ncol=1,bbox_to_anchor=(1.1, 1.05))"
   ]
  },
  {
   "cell_type": "markdown",
   "metadata": {},
   "source": [
    "# Recalculate the SGWB upper limit for hmr"
   ]
  },
  {
   "cell_type": "code",
   "execution_count": null,
   "metadata": {},
   "outputs": [],
   "source": [
    "def load_Ysig(filename):\n",
    "    \"\"\"\n",
    "    Read in CC spectra file\n",
    "    \"\"\"\n",
    "    freqs,Y_f,sigma_f = np.loadtxt(filename,unpack=True)\n",
    "    return Y_f,sigma_f,freqs\n",
    "\n",
    "def band_with_X_percent_of_sensitivity(Y,sig,freqs,X=99,alpha=0,fref=25):\n",
    "    \"\"\"\n",
    "    Compute f_99\n",
    "    \"\"\"\n",
    "    x=X/100.\n",
    "    Hf=(freqs/fref)**alpha\n",
    "    cum_var_m2 = np.cumsum(sig**(-2) * Hf**2)\n",
    "    cum_sens = np.sqrt(cum_var_m2)\n",
    "    sens_f = cum_sens / cum_sens[-1]\n",
    "    ii_x = np.argmin(np.abs(sens_f-x))\n",
    "    return freqs[ii_x]\n",
    "\n",
    "def calc_broadband_estimators(Y,sig,freqs,alpha=0,fref=25):\n",
    "    \"\"\"\n",
    "    Compute point estimate and error bar from CC spectra by combining frequency bins\n",
    "    \"\"\"\n",
    "    w = (freqs/fref)**alpha\n",
    "    Ya = Y / w\n",
    "    siga = sig / w\n",
    "    cut = np.logical_not(Y==0)\n",
    "    sigbb = 1/np.sqrt(np.sum(siga[cut]**(-2)))\n",
    "    Ybb = np.sum(Ya[cut]/siga[cut]**(2)) * sigbb**2\n",
    "    return Ybb, sigbb"
   ]
  },
  {
   "cell_type": "code",
   "execution_count": null,
   "metadata": {},
   "outputs": [],
   "source": [
    "filenames=dict(\n",
    "      HLV='C_O1_O2_O3.dat')\n",
    "baselines=['HLV']\n",
    "\n",
    "for baseline in baselines:\n",
    "    print(baseline)\n",
    "    Y,sig,freqs=load_Ysig(filenames[baseline])\n",
    "    Ybb0,sigbb0=calc_broadband_estimators(Y,sig,freqs,alpha=0,fref=25)\n",
    "    Ybb2_3,sigbb2_3=calc_broadband_estimators(Y,sig,freqs,alpha=2./3,fref=25)\n",
    "    Ybb3,sigbb3=calc_broadband_estimators(Y,sig,freqs,alpha=-2/3,fref=25)\n",
    "\n",
    "    print('\\talpha=0: Y=%2.2e +/- %2.2e'%(Ybb0,sigbb0))\n",
    "    print('\\talpha=2/3: Y=%2.2e +/- %2.2e'%(Ybb2_3,sigbb2_3))\n",
    "    print('\\talpha=-2/3: Y=%2.2e +/- %2.2e'%(Ybb3,sigbb3))"
   ]
  },
  {
   "cell_type": "markdown",
   "metadata": {},
   "source": [
    "# Plot the SGWB shape"
   ]
  },
  {
   "cell_type": "code",
   "execution_count": null,
   "metadata": {},
   "outputs": [],
   "source": [
    "freq = np.logspace(1,4,100)\n",
    "for i,m in enumerate(mass):\n",
    "    sgwb_com = sgwb(m,m,'comparable')\n",
    "    omega_gw = sgwb_com.omega_gw_array(constraint[i],freq)\n",
    "    np.savetxt('./SGWB-shape-data/mass_%f.txt' % (m),np.transpose([freq,omega_gw]))\n",
    "    plt.loglog(freq,omega_gw,label=r'mass=%f, $f_\\mathrm{pbh}$=%.3f' % (m,constraint[i]))\n",
    "    plt.ylim(1e-10,)\n",
    "    plt.xlim(20,)\n",
    "\n",
    "plt.scatter(25,LVK_upper,marker='*',color='black',label='LVK 25Hz upper limit')\n",
    "plt.title('SGWB shape')\n",
    "x= [25,1000]\n",
    "y = [LVK_upper,(x[1]/x[0])**(2/3)*LVK_upper]\n",
    "plt.loglog(x,y,label='power law (index 2/3)')\n",
    "plt.legend()"
   ]
  },
  {
   "cell_type": "code",
   "execution_count": null,
   "metadata": {},
   "outputs": [],
   "source": [
    "freq = np.logspace(1,4,100)\n",
    "for i,m in enumerate(mass):\n",
    "    f = np.loadtxt('./SGWB-shape-data/mass_%f.txt' % (m))\n",
    "    plt.loglog(f[:,0],f[:,1],label=r'mass=%.1f, $f_\\mathrm{pbh}$=%.3f' % (m,constraint[i]))\n",
    "\n",
    "plt.xlim(20)\n",
    "plt.ylim(1e-9,)\n",
    "plt.scatter(25,LVK_upper,marker='*',color='black',label='LVK 25Hz upper limit')\n",
    "x= [25,10000]\n",
    "y = [LVK_upper,(x[1]/x[0])**(2/3)*LVK_upper]\n",
    "plt.loglog(x,y,label='power law (index 2/3)',ls='--')\n",
    "\n",
    "plt.legend(ncol=1,bbox_to_anchor=(1.1, 1.05))\n",
    "plt.xlabel('Frequency [Hz]')\n",
    "plt.ylabel('$\\Omega_\\mathrm{GW}$')\n",
    "plt.savefig('./SGWB-shape-data/sgwbshape.pdf',bbox_inches='tight')"
   ]
  },
  {
   "cell_type": "markdown",
   "metadata": {},
   "source": [
    "# The second test: Reproduce LVK results"
   ]
  },
  {
   "cell_type": "code",
   "execution_count": null,
   "metadata": {},
   "outputs": [],
   "source": [
    "def sfr(z):    # SFR, Vangioni\n",
    "    nu = 0.146\n",
    "    a = 2.80\n",
    "    b = 2.46\n",
    "    z_m = 1.72\n",
    "    return nu * a * np.exp(b*(z-z_m)) / (a - b + b * np.exp(a * (z - z_m)) )"
   ]
  },
  {
   "cell_type": "code",
   "execution_count": null,
   "metadata": {},
   "outputs": [],
   "source": [
    "sfr(0)"
   ]
  },
  {
   "cell_type": "code",
   "execution_count": null,
   "metadata": {},
   "outputs": [],
   "source": [
    "sgwb_astro = sgwb(30,30,'astro')\n",
    "freq = np.linspace(20,1000,100)\n",
    "omega_gw_astro = sgwb_astro.omega_gw_array(fraction=1,freq_array=freq)"
   ]
  },
  {
   "cell_type": "code",
   "execution_count": null,
   "metadata": {},
   "outputs": [],
   "source": [
    "# BBH data\n",
    "bbhData = np.load('../LVKfile/BBH_backgrounds.npy',allow_pickle=True,encoding='latin1')[()]\n",
    "bbhBackgrounds = bbhData['OmgGW']\n",
    "bbh_freqs = bbhData['f']\n",
    "bbh_omg_05 = np.quantile(bbhBackgrounds,0.05,axis=0)\n",
    "bbh_omg_50 = np.quantile(bbhBackgrounds,0.50,axis=0)\n",
    "bbh_omg_95 = np.quantile(bbhBackgrounds,0.95,axis=0)\n",
    "\n",
    "fig = plt.figure()\n",
    "ax = fig.add_subplot(111)\n",
    "ax.set_xlim(20,1000)\n",
    "ax.set_ylim(3e-11,1e-7)\n",
    "ax.xaxis.grid(True,which='major',ls=':',color='grey')\n",
    "ax.yaxis.grid(True,which='major',ls=':',color='grey')\n",
    "ax.set_xlabel(r'$f\\,(\\mathrm{Hz})$',fontsize=10)\n",
    "ax.set_ylabel(r'$\\Omega_\\mathrm{GW}(f)$',fontsize=10)\n",
    "ax.set_xscale('log')\n",
    "ax.set_yscale('log')\n",
    "\n",
    "# Plot individual contributions\n",
    "ax.fill_between(bbh_freqs,bbh_omg_05,bbh_omg_95,facecolor='#33a02c',alpha=0.8,lw=0.5,zorder=3,edgecolor='black',label='BBH')\n",
    "ax.plot(freq,omega_gw_astro,label='BBH mass=10 R(0)=19')\n",
    "\n",
    "# Load PI curve data\n",
    "freqs_O1O2,PI_O1O2 = np.loadtxt('../LVKfile/PICurve_O2.dat',unpack=True)\n",
    "freqs_O3,PI_O3 = np.loadtxt('../LVKfile/PICurve_O3.dat',unpack=True)\n",
    "freqs_design,PI_design = np.loadtxt('../LVKfile/PICurve_HLV_Design.dat',unpack=True)\n",
    "freqs_aplus,PI_aplus = np.loadtxt('../LVKfile/PICurve_Aplus_Design.dat',unpack=True)\n",
    "\n",
    "# Plot 2sigma PI curves\n",
    "ax.plot(freqs_O1O2,2.*PI_O1O2,dashes=(1,1),label='O2',zorder=1,lw=1.2,color='#5e5e5e')\n",
    "ax.plot(freqs_O3,2.*PI_O3,color='black',label='O3',zorder=1)\n",
    "ax.plot(freqs_design,2.*PI_design,color='#5e5e5e',dashes=(2,1.5),label='Design HLV',lw=1.2,zorder=1)\n",
    "ax.plot(freqs_aplus,2.*PI_aplus,color='#5e5e5e',dashes=(3,1,1,1),label='Design A+',lw=1.2,zorder=1)\n",
    "ax.legend(bbox_to_anchor=(1.1, 1.05))\n",
    "fig.savefig('./SGWB-shape-data/compareLVK.pdf',bbox_inches='tight')"
   ]
  },
  {
   "cell_type": "markdown",
   "metadata": {},
   "source": [
    "# Plot everything in the same figure"
   ]
  },
  {
   "cell_type": "code",
   "execution_count": null,
   "metadata": {},
   "outputs": [],
   "source": [
    "for i,m in enumerate(mass):\n",
    "    f = np.loadtxt('./SGWB-shape-data/mass_%f.txt' % (m))\n",
    "    plt.loglog(f[:,0],f[:,1],label=r'PBHmass=%.1f, $f_\\mathrm{pbh}$=%.3f' % (m,constraint[i]))\n",
    "\n",
    "plt.xlim(20)\n",
    "plt.ylim(1e-10,)\n",
    "plt.scatter(25,LVK_upper,marker='*',color='black',label='LVK 25Hz upper limit')\n",
    "x= [25,10000]\n",
    "y = [LVK_upper,(x[1]/x[0])**(2/3)*LVK_upper]\n",
    "plt.loglog(x,y,label='power law (index 2/3)',ls='--')\n",
    "\n",
    "\n",
    "plt.fill_between(bbh_freqs,bbh_omg_05,bbh_omg_95,facecolor='#33a02c',alpha=0.7,lw=0.5,zorder=3,edgecolor='black',label='BBH')\n",
    "plt.loglog(freq,omega_gw_astro,label='BBH mass=10 R(0)=19')\n",
    "\n",
    "plt.plot(freqs_O1O2,2.*PI_O1O2,dashes=(1,1),label='O2',zorder=1,lw=1.2,color='#5e5e5e')\n",
    "plt.plot(freqs_O3,2.*PI_O3,color='black',label='O3',zorder=1)\n",
    "plt.plot(freqs_design,2.*PI_design,color='#5e5e5e',dashes=(2,1.5),label='Design HLV',lw=1.2,zorder=1)\n",
    "plt.plot(freqs_aplus,2.*PI_aplus,color='#5e5e5e',dashes=(3,1,1,1),label='Design A+',lw=1.2,zorder=1)\n",
    "plt.xscale('log')\n",
    "plt.yscale('log')\n",
    "\n",
    "plt.legend(ncol=1,bbox_to_anchor=(1.1, 1.05))\n",
    "plt.xlabel('Frequency [Hz]')\n",
    "plt.ylabel('$\\Omega_\\mathrm{GW}$')\n",
    "plt.savefig('./SGWB-shape-data/BBH-PBH.pdf',bbox_inches='tight')"
   ]
  },
  {
   "cell_type": "code",
   "execution_count": null,
   "metadata": {},
   "outputs": [],
   "source": []
  }
 ],
 "metadata": {
  "kernelspec": {
   "display_name": "Python 3",
   "language": "python",
   "name": "python3"
  },
  "language_info": {
   "codemirror_mode": {
    "name": "ipython",
    "version": 3
   },
   "file_extension": ".py",
   "mimetype": "text/x-python",
   "name": "python",
   "nbconvert_exporter": "python",
   "pygments_lexer": "ipython3",
   "version": "3.7.11"
  }
 },
 "nbformat": 4,
 "nbformat_minor": 2
}
